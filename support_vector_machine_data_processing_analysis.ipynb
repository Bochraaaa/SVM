{
  "metadata": {
    "kernelspec": {
      "language": "python",
      "display_name": "Python 3",
      "name": "python3"
    },
    "language_info": {
      "name": "python",
      "version": "3.10.12",
      "mimetype": "text/x-python",
      "codemirror_mode": {
        "name": "ipython",
        "version": 3
      },
      "pygments_lexer": "ipython3",
      "nbconvert_exporter": "python",
      "file_extension": ".py"
    },
    "colab": {
      "provenance": []
    }
  },
  "nbformat_minor": 0,
  "nbformat": 4,
  "cells": [
    {
      "cell_type": "code",
      "source": [
        "import pandas as pd\n",
        "import numpy as np\n",
        "import seaborn as sns\n",
        "import matplotlib.pyplot as plt\n",
        "%matplotlib inline"
      ],
      "metadata": {
        "_uuid": "8f2839f25d086af736a60e9eeb907d3b93b6e0e5",
        "_cell_guid": "b1076dfc-b9ad-4769-8c92-a6c4dae69d19",
        "execution": {
          "iopub.status.busy": "2023-09-24T12:14:12.445812Z",
          "iopub.execute_input": "2023-09-24T12:14:12.446197Z",
          "iopub.status.idle": "2023-09-24T12:14:13.406717Z",
          "shell.execute_reply.started": "2023-09-24T12:14:12.446162Z",
          "shell.execute_reply": "2023-09-24T12:14:13.405765Z"
        },
        "trusted": true,
        "id": "LG9q_RtR2Qm9",
        "outputId": "2a53a8db-a0f3-42da-d9f3-f34f47802c1f"
      },
      "execution_count": null,
      "outputs": [
        {
          "name": "stderr",
          "text": "/opt/conda/lib/python3.10/site-packages/scipy/__init__.py:146: UserWarning: A NumPy version >=1.16.5 and <1.23.0 is required for this version of SciPy (detected version 1.23.5\n  warnings.warn(f\"A NumPy version >={np_minversion} and <{np_maxversion}\"\n",
          "output_type": "stream"
        }
      ]
    },
    {
      "cell_type": "code",
      "source": [
        "data = pd.read_csv('/kaggle/input/predicting-pulsar-starintermediate/pulsar_data_train.csv')\n",
        "print ('shape of data : ', data.shape)\n",
        "data.head()"
      ],
      "metadata": {
        "execution": {
          "iopub.status.busy": "2023-09-24T12:14:13.408802Z",
          "iopub.execute_input": "2023-09-24T12:14:13.409258Z",
          "iopub.status.idle": "2023-09-24T12:14:13.490347Z",
          "shell.execute_reply.started": "2023-09-24T12:14:13.409226Z",
          "shell.execute_reply": "2023-09-24T12:14:13.489399Z"
        },
        "trusted": true,
        "id": "2YyRGG_-2QnC",
        "outputId": "b0d02357-c978-4221-855a-2cc95d627935"
      },
      "execution_count": null,
      "outputs": [
        {
          "name": "stdout",
          "text": "shape of data :  (12528, 9)\n",
          "output_type": "stream"
        },
        {
          "execution_count": 2,
          "output_type": "execute_result",
          "data": {
            "text/plain": "    Mean of the integrated profile  \\\n0                       121.156250   \n1                        76.968750   \n2                       130.585938   \n3                       156.398438   \n4                        84.804688   \n\n    Standard deviation of the integrated profile  \\\n0                                      48.372971   \n1                                      36.175557   \n2                                      53.229534   \n3                                      48.865942   \n4                                      36.117659   \n\n    Excess kurtosis of the integrated profile  \\\n0                                    0.375485   \n1                                    0.712898   \n2                                    0.133408   \n3                                   -0.215989   \n4                                    0.825013   \n\n    Skewness of the integrated profile   Mean of the DM-SNR curve  \\\n0                            -0.013165                   3.168896   \n1                             3.388719                   2.399666   \n2                            -0.297242                   2.743311   \n3                            -0.171294                  17.471572   \n4                             3.274125                   2.790134   \n\n    Standard deviation of the DM-SNR curve  \\\n0                                18.399367   \n1                                17.570997   \n2                                22.362553   \n3                                      NaN   \n4                                20.618009   \n\n    Excess kurtosis of the DM-SNR curve   Skewness of the DM-SNR curve  \\\n0                              7.449874                      65.159298   \n1                              9.414652                     102.722975   \n2                              8.508364                      74.031324   \n3                              2.958066                       7.197842   \n4                              8.405008                      76.291128   \n\n   target_class  \n0           0.0  \n1           0.0  \n2           0.0  \n3           0.0  \n4           0.0  ",
            "text/html": "<div>\n<style scoped>\n    .dataframe tbody tr th:only-of-type {\n        vertical-align: middle;\n    }\n\n    .dataframe tbody tr th {\n        vertical-align: top;\n    }\n\n    .dataframe thead th {\n        text-align: right;\n    }\n</style>\n<table border=\"1\" class=\"dataframe\">\n  <thead>\n    <tr style=\"text-align: right;\">\n      <th></th>\n      <th>Mean of the integrated profile</th>\n      <th>Standard deviation of the integrated profile</th>\n      <th>Excess kurtosis of the integrated profile</th>\n      <th>Skewness of the integrated profile</th>\n      <th>Mean of the DM-SNR curve</th>\n      <th>Standard deviation of the DM-SNR curve</th>\n      <th>Excess kurtosis of the DM-SNR curve</th>\n      <th>Skewness of the DM-SNR curve</th>\n      <th>target_class</th>\n    </tr>\n  </thead>\n  <tbody>\n    <tr>\n      <th>0</th>\n      <td>121.156250</td>\n      <td>48.372971</td>\n      <td>0.375485</td>\n      <td>-0.013165</td>\n      <td>3.168896</td>\n      <td>18.399367</td>\n      <td>7.449874</td>\n      <td>65.159298</td>\n      <td>0.0</td>\n    </tr>\n    <tr>\n      <th>1</th>\n      <td>76.968750</td>\n      <td>36.175557</td>\n      <td>0.712898</td>\n      <td>3.388719</td>\n      <td>2.399666</td>\n      <td>17.570997</td>\n      <td>9.414652</td>\n      <td>102.722975</td>\n      <td>0.0</td>\n    </tr>\n    <tr>\n      <th>2</th>\n      <td>130.585938</td>\n      <td>53.229534</td>\n      <td>0.133408</td>\n      <td>-0.297242</td>\n      <td>2.743311</td>\n      <td>22.362553</td>\n      <td>8.508364</td>\n      <td>74.031324</td>\n      <td>0.0</td>\n    </tr>\n    <tr>\n      <th>3</th>\n      <td>156.398438</td>\n      <td>48.865942</td>\n      <td>-0.215989</td>\n      <td>-0.171294</td>\n      <td>17.471572</td>\n      <td>NaN</td>\n      <td>2.958066</td>\n      <td>7.197842</td>\n      <td>0.0</td>\n    </tr>\n    <tr>\n      <th>4</th>\n      <td>84.804688</td>\n      <td>36.117659</td>\n      <td>0.825013</td>\n      <td>3.274125</td>\n      <td>2.790134</td>\n      <td>20.618009</td>\n      <td>8.405008</td>\n      <td>76.291128</td>\n      <td>0.0</td>\n    </tr>\n  </tbody>\n</table>\n</div>"
          },
          "metadata": {}
        }
      ]
    },
    {
      "cell_type": "code",
      "source": [
        "data.info()"
      ],
      "metadata": {
        "execution": {
          "iopub.status.busy": "2023-09-24T12:14:13.491999Z",
          "iopub.execute_input": "2023-09-24T12:14:13.492645Z",
          "iopub.status.idle": "2023-09-24T12:14:13.572391Z",
          "shell.execute_reply.started": "2023-09-24T12:14:13.492612Z",
          "shell.execute_reply": "2023-09-24T12:14:13.571426Z"
        },
        "trusted": true,
        "id": "bK89ByzB2QnD",
        "outputId": "dd4cd9ca-c1d8-4abd-b826-ed5c0011386d"
      },
      "execution_count": null,
      "outputs": [
        {
          "name": "stdout",
          "text": "<class 'pandas.core.frame.DataFrame'>\nRangeIndex: 12528 entries, 0 to 12527\nData columns (total 9 columns):\n #   Column                                         Non-Null Count  Dtype  \n---  ------                                         --------------  -----  \n 0    Mean of the integrated profile                12528 non-null  float64\n 1    Standard deviation of the integrated profile  12528 non-null  float64\n 2    Excess kurtosis of the integrated profile     10793 non-null  float64\n 3    Skewness of the integrated profile            12528 non-null  float64\n 4    Mean of the DM-SNR curve                      12528 non-null  float64\n 5    Standard deviation of the DM-SNR curve        11350 non-null  float64\n 6    Excess kurtosis of the DM-SNR curve           12528 non-null  float64\n 7    Skewness of the DM-SNR curve                  11903 non-null  float64\n 8   target_class                                   12528 non-null  float64\ndtypes: float64(9)\nmemory usage: 881.0 KB\n",
          "output_type": "stream"
        }
      ]
    },
    {
      "cell_type": "code",
      "source": [
        "data.isnull().sum()"
      ],
      "metadata": {
        "execution": {
          "iopub.status.busy": "2023-09-24T12:14:13.575024Z",
          "iopub.execute_input": "2023-09-24T12:14:13.575361Z",
          "iopub.status.idle": "2023-09-24T12:14:13.586727Z",
          "shell.execute_reply.started": "2023-09-24T12:14:13.575330Z",
          "shell.execute_reply": "2023-09-24T12:14:13.585732Z"
        },
        "trusted": true,
        "id": "XjSxlHw32QnE",
        "outputId": "d1359a5f-2190-4d6e-a5a8-2d7738687a04"
      },
      "execution_count": null,
      "outputs": [
        {
          "execution_count": 4,
          "output_type": "execute_result",
          "data": {
            "text/plain": " Mean of the integrated profile                     0\n Standard deviation of the integrated profile       0\n Excess kurtosis of the integrated profile       1735\n Skewness of the integrated profile                 0\n Mean of the DM-SNR curve                           0\n Standard deviation of the DM-SNR curve          1178\n Excess kurtosis of the DM-SNR curve                0\n Skewness of the DM-SNR curve                     625\ntarget_class                                        0\ndtype: int64"
          },
          "metadata": {}
        }
      ]
    },
    {
      "cell_type": "code",
      "source": [
        "data.columns = ['IP Mean', 'IP Sd', 'IP Kurtosis', 'IP Skewness',\n",
        "              'DM-SNR Mean', 'DM-SNR Sd', 'DM-SNR Kurtosis', 'DM-SNR Skewness', 'target_class']"
      ],
      "metadata": {
        "execution": {
          "iopub.status.busy": "2023-09-24T12:14:13.588598Z",
          "iopub.execute_input": "2023-09-24T12:14:13.588966Z",
          "iopub.status.idle": "2023-09-24T12:14:13.596077Z",
          "shell.execute_reply.started": "2023-09-24T12:14:13.588924Z",
          "shell.execute_reply": "2023-09-24T12:14:13.594982Z"
        },
        "trusted": true,
        "id": "EWC54ndh2QnE"
      },
      "execution_count": null,
      "outputs": []
    },
    {
      "cell_type": "code",
      "source": [
        "plt.figure(figsize =(9,7))\n",
        "sns.heatmap(data.corr(),annot=True,square=True,fmt='.1f', cbar=False);"
      ],
      "metadata": {
        "execution": {
          "iopub.status.busy": "2023-09-24T12:14:13.597433Z",
          "iopub.execute_input": "2023-09-24T12:14:13.597951Z",
          "iopub.status.idle": "2023-09-24T12:14:14.151072Z",
          "shell.execute_reply.started": "2023-09-24T12:14:13.597921Z",
          "shell.execute_reply": "2023-09-24T12:14:14.150054Z"
        },
        "trusted": true,
        "id": "0rZy3WDa2QnF",
        "outputId": "bf776bbc-1e3c-422a-d6b9-4f201a98aaa8"
      },
      "execution_count": null,
      "outputs": [
        {
          "output_type": "display_data",
          "data": {
            "text/plain": "<Figure size 900x700 with 1 Axes>",
            "image/png": "[encoded data removed]"
          },
          "metadata": {}
        }
      ]
    },
    {
      "cell_type": "code",
      "source": [
        "train = data\n",
        "train['IP Kurtosis'].fillna(train['IP Kurtosis'].mean(), inplace=True)\n",
        "train['DM-SNR Sd'].fillna(train['DM-SNR Sd'].mean(), inplace=True)\n",
        "train['DM-SNR Skewness'].fillna(train['DM-SNR Skewness'].mean(), inplace=True)"
      ],
      "metadata": {
        "execution": {
          "iopub.status.busy": "2023-09-24T12:14:14.152083Z",
          "iopub.execute_input": "2023-09-24T12:14:14.152391Z",
          "iopub.status.idle": "2023-09-24T12:14:14.164256Z",
          "shell.execute_reply.started": "2023-09-24T12:14:14.152362Z",
          "shell.execute_reply": "2023-09-24T12:14:14.163188Z"
        },
        "trusted": true,
        "id": "ucvDf2Z72QnG"
      },
      "execution_count": null,
      "outputs": []
    },
    {
      "cell_type": "markdown",
      "source": [
        "train = data\n",
        "train.dropna(axis=0, inplace=True)\n",
        "train.dropna(axis=1, inplace=True)\n",
        "train.head()"
      ],
      "metadata": {
        "id": "hgMcpNqv2QnG"
      }
    },
    {
      "cell_type": "code",
      "source": [
        "plt.figure(figsize =(9,7))\n",
        "sns.heatmap(train.corr(),annot=True,square=True,fmt='.1f', cbar=False);"
      ],
      "metadata": {
        "execution": {
          "iopub.status.busy": "2023-09-24T12:14:14.165762Z",
          "iopub.execute_input": "2023-09-24T12:14:14.166718Z",
          "iopub.status.idle": "2023-09-24T12:14:14.667471Z",
          "shell.execute_reply.started": "2023-09-24T12:14:14.166685Z",
          "shell.execute_reply": "2023-09-24T12:14:14.666511Z"
        },
        "trusted": true,
        "id": "LDlTMlhC2QnJ",
        "outputId": "84761814-235f-4144-90e1-f40bf4a8c26b"
      },
      "execution_count": null,
      "outputs": [
        {
          "output_type": "display_data",
          "data": {
            "text/plain": "<Figure size 900x700 with 1 Axes>",
            "image/png": "[encoded data removed]"
          },
          "metadata": {}
        }
      ]
    },
    {
      "cell_type": "code",
      "source": [
        "train['target_class'].value_counts()"
      ],
      "metadata": {
        "execution": {
          "iopub.status.busy": "2023-09-24T12:14:14.669230Z",
          "iopub.execute_input": "2023-09-24T12:14:14.669889Z",
          "iopub.status.idle": "2023-09-24T12:14:14.680063Z",
          "shell.execute_reply.started": "2023-09-24T12:14:14.669855Z",
          "shell.execute_reply": "2023-09-24T12:14:14.678956Z"
        },
        "trusted": true,
        "id": "yTaz5Oox2QnK",
        "outputId": "8a1f420a-9ad2-4e23-9418-33383985ef26"
      },
      "execution_count": null,
      "outputs": [
        {
          "execution_count": 9,
          "output_type": "execute_result",
          "data": {
            "text/plain": "target_class\n0.0    11375\n1.0     1153\nName: count, dtype: int64"
          },
          "metadata": {}
        }
      ]
    },
    {
      "cell_type": "code",
      "source": [
        "train['target_class'].value_counts()/np.float(len(train))"
      ],
      "metadata": {
        "execution": {
          "iopub.status.busy": "2023-09-24T12:14:14.684942Z",
          "iopub.execute_input": "2023-09-24T12:14:14.685196Z",
          "iopub.status.idle": "2023-09-24T12:14:14.696394Z",
          "shell.execute_reply.started": "2023-09-24T12:14:14.685173Z",
          "shell.execute_reply": "2023-09-24T12:14:14.695530Z"
        },
        "trusted": true,
        "id": "zGX4AneJ2QnK",
        "outputId": "1c6d84d0-1f92-4a04-c4aa-600102e8ddd4"
      },
      "execution_count": null,
      "outputs": [
        {
          "name": "stderr",
          "text": "/tmp/ipykernel_28/2213899631.py:1: DeprecationWarning: `np.float` is a deprecated alias for the builtin `float`. To silence this warning, use `float` by itself. Doing this will not modify any behavior and is safe. If you specifically wanted the numpy scalar type, use `np.float64` here.\nDeprecated in NumPy 1.20; for more details and guidance: https://numpy.org/devdocs/release/1.20.0-notes.html#deprecations\n  train['target_class'].value_counts()/np.float(len(train))\n",
          "output_type": "stream"
        },
        {
          "execution_count": 10,
          "output_type": "execute_result",
          "data": {
            "text/plain": "target_class\n0.0    0.907966\n1.0    0.092034\nName: count, dtype: float64"
          },
          "metadata": {}
        }
      ]
    },
    {
      "cell_type": "code",
      "source": [
        "round(train.describe(),2)"
      ],
      "metadata": {
        "execution": {
          "iopub.status.busy": "2023-09-24T12:14:14.697743Z",
          "iopub.execute_input": "2023-09-24T12:14:14.698735Z",
          "iopub.status.idle": "2023-09-24T12:14:14.746501Z",
          "shell.execute_reply.started": "2023-09-24T12:14:14.698702Z",
          "shell.execute_reply": "2023-09-24T12:14:14.745495Z"
        },
        "trusted": true,
        "id": "m_4AogZE2QnL",
        "outputId": "d7da272c-5374-4809-bb6a-d95f16b0d268"
      },
      "execution_count": null,
      "outputs": [
        {
          "execution_count": 11,
          "output_type": "execute_result",
          "data": {
            "text/plain": "        IP Mean     IP Sd  IP Kurtosis  IP Skewness  DM-SNR Mean  DM-SNR Sd  \\\ncount  12528.00  12528.00     12528.00     12528.00     12528.00   12528.00   \nmean     111.04     46.52         0.48         1.78        12.67      26.35   \nstd       25.67      6.80         0.99         6.21        29.61      18.67   \nmin        5.81     24.77        -1.74        -1.79         0.21       7.37   \n25%      100.87     42.36         0.06        -0.19         1.91      14.76   \n50%      115.18     46.93         0.29         0.20         2.79      19.62   \n75%      127.11     50.98         0.48         0.93         5.41      26.47   \nmax      189.73     91.81         8.07        68.10       222.42     110.64   \n\n       DM-SNR Kurtosis  DM-SNR Skewness  target_class  \ncount         12528.00         12528.00      12528.00  \nmean              8.33           105.53          0.09  \nstd               4.54           104.69          0.29  \nmin              -3.14            -1.98          0.00  \n25%               5.80            38.13          0.00  \n50%               8.45            87.80          0.00  \n75%              10.73           135.77          0.00  \nmax              34.54          1191.00          1.00  ",
            "text/html": "<div>\n<style scoped>\n    .dataframe tbody tr th:only-of-type {\n        vertical-align: middle;\n    }\n\n    .dataframe tbody tr th {\n        vertical-align: top;\n    }\n\n    .dataframe thead th {\n        text-align: right;\n    }\n</style>\n<table border=\"1\" class=\"dataframe\">\n  <thead>\n    <tr style=\"text-align: right;\">\n      <th></th>\n      <th>IP Mean</th>\n      <th>IP Sd</th>\n      <th>IP Kurtosis</th>\n      <th>IP Skewness</th>\n      <th>DM-SNR Mean</th>\n      <th>DM-SNR Sd</th>\n      <th>DM-SNR Kurtosis</th>\n      <th>DM-SNR Skewness</th>\n      <th>target_class</th>\n    </tr>\n  </thead>\n  <tbody>\n    <tr>\n      <th>count</th>\n      <td>12528.00</td>\n      <td>12528.00</td>\n      <td>12528.00</td>\n      <td>12528.00</td>\n      <td>12528.00</td>\n      <td>12528.00</td>\n      <td>12528.00</td>\n      <td>12528.00</td>\n      <td>12528.00</td>\n    </tr>\n    <tr>\n      <th>mean</th>\n      <td>111.04</td>\n      <td>46.52</td>\n      <td>0.48</td>\n      <td>1.78</td>\n      <td>12.67</td>\n      <td>26.35</td>\n      <td>8.33</td>\n      <td>105.53</td>\n      <td>0.09</td>\n    </tr>\n    <tr>\n      <th>std</th>\n      <td>25.67</td>\n      <td>6.80</td>\n      <td>0.99</td>\n      <td>6.21</td>\n      <td>29.61</td>\n      <td>18.67</td>\n      <td>4.54</td>\n      <td>104.69</td>\n      <td>0.29</td>\n    </tr>\n    <tr>\n      <th>min</th>\n      <td>5.81</td>\n      <td>24.77</td>\n      <td>-1.74</td>\n      <td>-1.79</td>\n      <td>0.21</td>\n      <td>7.37</td>\n      <td>-3.14</td>\n      <td>-1.98</td>\n      <td>0.00</td>\n    </tr>\n    <tr>\n      <th>25%</th>\n      <td>100.87</td>\n      <td>42.36</td>\n      <td>0.06</td>\n      <td>-0.19</td>\n      <td>1.91</td>\n      <td>14.76</td>\n      <td>5.80</td>\n      <td>38.13</td>\n      <td>0.00</td>\n    </tr>\n    <tr>\n      <th>50%</th>\n      <td>115.18</td>\n      <td>46.93</td>\n      <td>0.29</td>\n      <td>0.20</td>\n      <td>2.79</td>\n      <td>19.62</td>\n      <td>8.45</td>\n      <td>87.80</td>\n      <td>0.00</td>\n    </tr>\n    <tr>\n      <th>75%</th>\n      <td>127.11</td>\n      <td>50.98</td>\n      <td>0.48</td>\n      <td>0.93</td>\n      <td>5.41</td>\n      <td>26.47</td>\n      <td>10.73</td>\n      <td>135.77</td>\n      <td>0.00</td>\n    </tr>\n    <tr>\n      <th>max</th>\n      <td>189.73</td>\n      <td>91.81</td>\n      <td>8.07</td>\n      <td>68.10</td>\n      <td>222.42</td>\n      <td>110.64</td>\n      <td>34.54</td>\n      <td>1191.00</td>\n      <td>1.00</td>\n    </tr>\n  </tbody>\n</table>\n</div>"
          },
          "metadata": {}
        }
      ]
    },
    {
      "cell_type": "code",
      "source": [
        "X = train.drop(['target_class'], axis=1)\n",
        "\n",
        "y = train['target_class']"
      ],
      "metadata": {
        "execution": {
          "iopub.status.busy": "2023-09-24T12:14:14.747821Z",
          "iopub.execute_input": "2023-09-24T12:14:14.748400Z",
          "iopub.status.idle": "2023-09-24T12:14:14.755596Z",
          "shell.execute_reply.started": "2023-09-24T12:14:14.748367Z",
          "shell.execute_reply": "2023-09-24T12:14:14.754466Z"
        },
        "trusted": true,
        "id": "_JC04uJx2QnL"
      },
      "execution_count": null,
      "outputs": []
    },
    {
      "cell_type": "code",
      "source": [
        "from sklearn.model_selection import train_test_split\n",
        "\n",
        "X_train, X_test, y_train, y_test = train_test_split(X, y, test_size = 0.2, random_state = 0)"
      ],
      "metadata": {
        "execution": {
          "iopub.status.busy": "2023-09-24T12:14:14.757008Z",
          "iopub.execute_input": "2023-09-24T12:14:14.757598Z",
          "iopub.status.idle": "2023-09-24T12:14:14.950820Z",
          "shell.execute_reply.started": "2023-09-24T12:14:14.757562Z",
          "shell.execute_reply": "2023-09-24T12:14:14.949854Z"
        },
        "trusted": true,
        "id": "Sj5iCwzc2QnL"
      },
      "execution_count": null,
      "outputs": []
    },
    {
      "cell_type": "code",
      "source": [
        "X_train.shape, X_test.shape"
      ],
      "metadata": {
        "execution": {
          "iopub.status.busy": "2023-09-24T12:14:14.952139Z",
          "iopub.execute_input": "2023-09-24T12:14:14.952469Z",
          "iopub.status.idle": "2023-09-24T12:14:14.961886Z",
          "shell.execute_reply.started": "2023-09-24T12:14:14.952439Z",
          "shell.execute_reply": "2023-09-24T12:14:14.959622Z"
        },
        "trusted": true,
        "id": "o9EndqLb2QnM",
        "outputId": "2743b914-b8e9-47c7-fb7c-9138ae3bafbd"
      },
      "execution_count": null,
      "outputs": [
        {
          "execution_count": 14,
          "output_type": "execute_result",
          "data": {
            "text/plain": "((10022, 8), (2506, 8))"
          },
          "metadata": {}
        }
      ]
    },
    {
      "cell_type": "code",
      "source": [
        "cols = X_train.columns"
      ],
      "metadata": {
        "execution": {
          "iopub.status.busy": "2023-09-24T12:14:14.964306Z",
          "iopub.execute_input": "2023-09-24T12:14:14.965478Z",
          "iopub.status.idle": "2023-09-24T12:14:14.970686Z",
          "shell.execute_reply.started": "2023-09-24T12:14:14.965439Z",
          "shell.execute_reply": "2023-09-24T12:14:14.969371Z"
        },
        "trusted": true,
        "id": "5LTsclcU2QnM"
      },
      "execution_count": null,
      "outputs": []
    },
    {
      "cell_type": "code",
      "source": [
        "from sklearn.preprocessing import StandardScaler\n",
        "\n",
        "scaler = StandardScaler()\n",
        "\n",
        "X_train = scaler.fit_transform(X_train)\n",
        "\n",
        "X_test = scaler.transform(X_test)\n"
      ],
      "metadata": {
        "execution": {
          "iopub.status.busy": "2023-09-24T12:14:14.972257Z",
          "iopub.execute_input": "2023-09-24T12:14:14.973143Z",
          "iopub.status.idle": "2023-09-24T12:14:14.987985Z",
          "shell.execute_reply.started": "2023-09-24T12:14:14.973112Z",
          "shell.execute_reply": "2023-09-24T12:14:14.987000Z"
        },
        "trusted": true,
        "id": "dJk6qnbk2QnM"
      },
      "execution_count": null,
      "outputs": []
    },
    {
      "cell_type": "code",
      "source": [
        "X_train = pd.DataFrame(X_train, columns=[cols])\n",
        "X_test = pd.DataFrame(X_test, columns=[cols])\n",
        "X_train.describe()"
      ],
      "metadata": {
        "execution": {
          "iopub.status.busy": "2023-09-24T12:14:14.989366Z",
          "iopub.execute_input": "2023-09-24T12:14:14.989754Z",
          "iopub.status.idle": "2023-09-24T12:14:15.039981Z",
          "shell.execute_reply.started": "2023-09-24T12:14:14.989723Z",
          "shell.execute_reply": "2023-09-24T12:14:15.038795Z"
        },
        "trusted": true,
        "id": "3AfdeTDh2QnM",
        "outputId": "3d7fb551-d247-4cbf-c959-098de2fc54de"
      },
      "execution_count": null,
      "outputs": [
        {
          "execution_count": 17,
          "output_type": "execute_result",
          "data": {
            "text/plain": "            IP Mean         IP Sd   IP Kurtosis   IP Skewness   DM-SNR Mean  \\\ncount  1.002200e+04  1.002200e+04  1.002200e+04  1.002200e+04  1.002200e+04   \nmean  -2.580698e-16 -7.770453e-16 -9.925762e-18 -1.595212e-17 -3.030902e-17   \nstd    1.000050e+00  1.000050e+00  1.000050e+00  1.000050e+00  1.000050e+00   \nmin   -4.059253e+00 -3.121855e+00 -2.221072e+00 -5.703669e-01 -4.225211e-01   \n25%   -3.943394e-01 -6.101706e-01 -4.261366e-01 -3.175801e-01 -3.653436e-01   \n50%    1.619199e-01  5.986146e-02 -1.916573e-01 -2.549120e-01 -3.355278e-01   \n75%    6.265131e-01  6.579129e-01 -6.261144e-03 -1.397269e-01 -2.459675e-01   \nmax    3.045294e+00  6.647182e+00  7.578695e+00  1.045442e+01  7.074053e+00   \n\n          DM-SNR Sd DM-SNR Kurtosis DM-SNR Skewness  \ncount  1.002200e+04    1.002200e+04    1.002200e+04  \nmean   1.036888e-16   -1.318708e-16   -5.955457e-17  \nstd    1.000050e+00    1.000050e+00    1.000050e+00  \nmin   -1.014727e+00   -2.526379e+00   -1.026846e+00  \n25%   -6.205702e-01   -5.589324e-01   -6.456738e-01  \n50%   -3.625238e-01    2.442155e-02   -1.680021e-01  \n75%    1.653286e-02    5.276848e-01    2.883008e-01  \nmax    4.496240e+00    5.769814e+00    1.036456e+01  ",
            "text/html": "<div>\n<style scoped>\n    .dataframe tbody tr th:only-of-type {\n        vertical-align: middle;\n    }\n\n    .dataframe tbody tr th {\n        vertical-align: top;\n    }\n\n    .dataframe thead tr th {\n        text-align: left;\n    }\n</style>\n<table border=\"1\" class=\"dataframe\">\n  <thead>\n    <tr>\n      <th></th>\n      <th>IP Mean</th>\n      <th>IP Sd</th>\n      <th>IP Kurtosis</th>\n      <th>IP Skewness</th>\n      <th>DM-SNR Mean</th>\n      <th>DM-SNR Sd</th>\n      <th>DM-SNR Kurtosis</th>\n      <th>DM-SNR Skewness</th>\n    </tr>\n  </thead>\n  <tbody>\n    <tr>\n      <th>count</th>\n      <td>1.002200e+04</td>\n      <td>1.002200e+04</td>\n      <td>1.002200e+04</td>\n      <td>1.002200e+04</td>\n      <td>1.002200e+04</td>\n      <td>1.002200e+04</td>\n      <td>1.002200e+04</td>\n      <td>1.002200e+04</td>\n    </tr>\n    <tr>\n      <th>mean</th>\n      <td>-2.580698e-16</td>\n      <td>-7.770453e-16</td>\n      <td>-9.925762e-18</td>\n      <td>-1.595212e-17</td>\n      <td>-3.030902e-17</td>\n      <td>1.036888e-16</td>\n      <td>-1.318708e-16</td>\n      <td>-5.955457e-17</td>\n    </tr>\n    <tr>\n      <th>std</th>\n      <td>1.000050e+00</td>\n      <td>1.000050e+00</td>\n      <td>1.000050e+00</td>\n      <td>1.000050e+00</td>\n      <td>1.000050e+00</td>\n      <td>1.000050e+00</td>\n      <td>1.000050e+00</td>\n      <td>1.000050e+00</td>\n    </tr>\n    <tr>\n      <th>min</th>\n      <td>-4.059253e+00</td>\n      <td>-3.121855e+00</td>\n      <td>-2.221072e+00</td>\n      <td>-5.703669e-01</td>\n      <td>-4.225211e-01</td>\n      <td>-1.014727e+00</td>\n      <td>-2.526379e+00</td>\n      <td>-1.026846e+00</td>\n    </tr>\n    <tr>\n      <th>25%</th>\n      <td>-3.943394e-01</td>\n      <td>-6.101706e-01</td>\n      <td>-4.261366e-01</td>\n      <td>-3.175801e-01</td>\n      <td>-3.653436e-01</td>\n      <td>-6.205702e-01</td>\n      <td>-5.589324e-01</td>\n      <td>-6.456738e-01</td>\n    </tr>\n    <tr>\n      <th>50%</th>\n      <td>1.619199e-01</td>\n      <td>5.986146e-02</td>\n      <td>-1.916573e-01</td>\n      <td>-2.549120e-01</td>\n      <td>-3.355278e-01</td>\n      <td>-3.625238e-01</td>\n      <td>2.442155e-02</td>\n      <td>-1.680021e-01</td>\n    </tr>\n    <tr>\n      <th>75%</th>\n      <td>6.265131e-01</td>\n      <td>6.579129e-01</td>\n      <td>-6.261144e-03</td>\n      <td>-1.397269e-01</td>\n      <td>-2.459675e-01</td>\n      <td>1.653286e-02</td>\n      <td>5.276848e-01</td>\n      <td>2.883008e-01</td>\n    </tr>\n    <tr>\n      <th>max</th>\n      <td>3.045294e+00</td>\n      <td>6.647182e+00</td>\n      <td>7.578695e+00</td>\n      <td>1.045442e+01</td>\n      <td>7.074053e+00</td>\n      <td>4.496240e+00</td>\n      <td>5.769814e+00</td>\n      <td>1.036456e+01</td>\n    </tr>\n  </tbody>\n</table>\n</div>"
          },
          "metadata": {}
        }
      ]
    },
    {
      "cell_type": "code",
      "source": [
        "# import SVC classifier\n",
        "from sklearn.svm import SVC\n",
        "\n",
        "\n",
        "# import metrics to compute accuracy\n",
        "from sklearn.metrics import accuracy_score\n",
        "\n",
        "\n",
        "# instantiate classifier with default hyperparameters\n",
        "svc=SVC()\n",
        "\n",
        "\n",
        "# fit classifier to training set\n",
        "svc.fit(X_train,y_train)\n",
        "\n",
        "\n",
        "# make predictions on test set\n",
        "y_pred=svc.predict(X_test)\n",
        "\n",
        "\n",
        "# compute and print accuracy score\n",
        "print('Model accuracy score with default hyperparameters: {0:0.4f}'. format(accuracy_score(y_test, y_pred)))"
      ],
      "metadata": {
        "execution": {
          "iopub.status.busy": "2023-09-24T12:14:15.041772Z",
          "iopub.execute_input": "2023-09-24T12:14:15.042132Z",
          "iopub.status.idle": "2023-09-24T12:14:15.522230Z",
          "shell.execute_reply.started": "2023-09-24T12:14:15.042100Z",
          "shell.execute_reply": "2023-09-24T12:14:15.520980Z"
        },
        "trusted": true,
        "id": "_zUbdBBw2QnM",
        "outputId": "188c8663-ec30-4b48-d82a-4e3cef75ebac"
      },
      "execution_count": null,
      "outputs": [
        {
          "name": "stdout",
          "text": "Model accuracy score with default hyperparameters: 0.9796\n",
          "output_type": "stream"
        }
      ]
    },
    {
      "cell_type": "code",
      "source": [
        "# instantiate classifier with rbf kernel and C=100\n",
        "svc=SVC(C=100.0)\n",
        "\n",
        "\n",
        "# fit classifier to training set\n",
        "svc.fit(X_train,y_train)\n",
        "\n",
        "\n",
        "# make predictions on test set\n",
        "y_pred=svc.predict(X_test)\n",
        "\n",
        "\n",
        "# compute and print accuracy score\n",
        "print('Model accuracy score with rbf kernel and C=100.0 : {0:0.4f}'. format(accuracy_score(y_test, y_pred)))"
      ],
      "metadata": {
        "execution": {
          "iopub.status.busy": "2023-09-24T12:14:15.524050Z",
          "iopub.execute_input": "2023-09-24T12:14:15.524518Z",
          "iopub.status.idle": "2023-09-24T12:14:16.408777Z",
          "shell.execute_reply.started": "2023-09-24T12:14:15.524481Z",
          "shell.execute_reply": "2023-09-24T12:14:16.407583Z"
        },
        "trusted": true,
        "id": "2lCrwGss2QnN",
        "outputId": "26311f52-1a26-462c-df07-c36c9cb50ebb"
      },
      "execution_count": null,
      "outputs": [
        {
          "name": "stdout",
          "text": "Model accuracy score with rbf kernel and C=100.0 : 0.9804\n",
          "output_type": "stream"
        }
      ]
    },
    {
      "cell_type": "code",
      "source": [
        "# instantiate classifier with rbf kernel and C=1000\n",
        "svc=SVC(C=1000.0)\n",
        "\n",
        "\n",
        "# fit classifier to training set\n",
        "svc.fit(X_train,y_train)\n",
        "\n",
        "\n",
        "# make predictions on test set\n",
        "y_pred=svc.predict(X_test)\n",
        "\n",
        "\n",
        "# compute and print accuracy score\n",
        "print('Model accuracy score with rbf kernel and C=1000.0 : {0:0.4f}'. format(accuracy_score(y_test, y_pred)))"
      ],
      "metadata": {
        "execution": {
          "iopub.status.busy": "2023-09-24T12:14:16.410573Z",
          "iopub.execute_input": "2023-09-24T12:14:16.411042Z",
          "iopub.status.idle": "2023-09-24T12:14:20.633836Z",
          "shell.execute_reply.started": "2023-09-24T12:14:16.411005Z",
          "shell.execute_reply": "2023-09-24T12:14:20.632746Z"
        },
        "trusted": true,
        "id": "BumvIFE92QnN",
        "outputId": "19770083-60d1-44d3-b44a-62626d898cc2"
      },
      "execution_count": null,
      "outputs": [
        {
          "name": "stdout",
          "text": "Model accuracy score with rbf kernel and C=1000.0 : 0.9808\n",
          "output_type": "stream"
        }
      ]
    },
    {
      "cell_type": "code",
      "source": [
        "# instantiate classifier with linear kernel and C=1.0\n",
        "linear_svc=SVC(kernel='linear', C=1.0)\n",
        "\n",
        "\n",
        "# fit classifier to training set\n",
        "linear_svc.fit(X_train,y_train)\n",
        "\n",
        "\n",
        "# make predictions on test set\n",
        "y_pred_test=linear_svc.predict(X_test)\n",
        "\n",
        "\n",
        "# compute and print accuracy score\n",
        "print('Model accuracy score with linear kernel and C=1.0 : {0:0.4f}'. format(accuracy_score(y_test, y_pred_test)))"
      ],
      "metadata": {
        "execution": {
          "iopub.status.busy": "2023-09-24T12:14:20.635370Z",
          "iopub.execute_input": "2023-09-24T12:14:20.636039Z",
          "iopub.status.idle": "2023-09-24T12:14:20.941685Z",
          "shell.execute_reply.started": "2023-09-24T12:14:20.636002Z",
          "shell.execute_reply": "2023-09-24T12:14:20.940676Z"
        },
        "trusted": true,
        "id": "HWviyTv42QnO",
        "outputId": "c22f68dc-3bc3-4bf2-d110-079c775acfe9"
      },
      "execution_count": null,
      "outputs": [
        {
          "name": "stdout",
          "text": "Model accuracy score with linear kernel and C=1.0 : 0.9777\n",
          "output_type": "stream"
        }
      ]
    },
    {
      "cell_type": "code",
      "source": [
        "# instantiate classifier with linear kernel and C=100.0\n",
        "linear_svc100=SVC(kernel='linear', C=100.0)\n",
        "\n",
        "\n",
        "# fit classifier to training set\n",
        "linear_svc100.fit(X_train, y_train)\n",
        "\n",
        "\n",
        "# make predictions on test set\n",
        "y_pred=linear_svc100.predict(X_test)\n",
        "\n",
        "\n",
        "# compute and print accuracy score\n",
        "print('Model accuracy score with linear kernel and C=100.0 : {0:0.4f}'. format(accuracy_score(y_test, y_pred)))"
      ],
      "metadata": {
        "execution": {
          "iopub.status.busy": "2023-09-24T12:14:20.943006Z",
          "iopub.execute_input": "2023-09-24T12:14:20.944200Z",
          "iopub.status.idle": "2023-09-24T12:14:24.949407Z",
          "shell.execute_reply.started": "2023-09-24T12:14:20.944164Z",
          "shell.execute_reply": "2023-09-24T12:14:24.948243Z"
        },
        "trusted": true,
        "id": "9Rn4_4fP2QnO",
        "outputId": "4f69c095-78ae-40fb-86ed-86246ae21c95"
      },
      "execution_count": null,
      "outputs": [
        {
          "name": "stdout",
          "text": "Model accuracy score with linear kernel and C=100.0 : 0.9777\n",
          "output_type": "stream"
        }
      ]
    },
    {
      "cell_type": "code",
      "source": [
        "# instantiate classifier with linear kernel and C=1000.0\n",
        "linear_svc1000=SVC(kernel='linear', C=1000.0)\n",
        "\n",
        "\n",
        "# fit classifier to training set\n",
        "linear_svc1000.fit(X_train, y_train)\n",
        "\n",
        "\n",
        "# make predictions on test set\n",
        "y_pred=linear_svc1000.predict(X_test)\n",
        "\n",
        "\n",
        "# compute and print accuracy score\n",
        "print('Model accuracy score with linear kernel and C=1000.0 : {0:0.4f}'. format(accuracy_score(y_test, y_pred)))"
      ],
      "metadata": {
        "execution": {
          "iopub.status.busy": "2023-09-24T12:14:24.951105Z",
          "iopub.execute_input": "2023-09-24T12:14:24.951521Z",
          "iopub.status.idle": "2023-09-24T12:14:58.437198Z",
          "shell.execute_reply.started": "2023-09-24T12:14:24.951483Z",
          "shell.execute_reply": "2023-09-24T12:14:58.434934Z"
        },
        "trusted": true,
        "id": "CcRd_6SU2QnO",
        "outputId": "7ce7e8a2-214c-4918-82f9-864f94b79fb8"
      },
      "execution_count": null,
      "outputs": [
        {
          "name": "stdout",
          "text": "Model accuracy score with linear kernel and C=1000.0 : 0.9781\n",
          "output_type": "stream"
        }
      ]
    },
    {
      "cell_type": "code",
      "source": [
        "y_pred_train = linear_svc.predict(X_train)\n",
        "\n",
        "y_pred_train"
      ],
      "metadata": {
        "execution": {
          "iopub.status.busy": "2023-09-24T12:14:58.438775Z",
          "iopub.execute_input": "2023-09-24T12:14:58.439306Z",
          "iopub.status.idle": "2023-09-24T12:14:58.572531Z",
          "shell.execute_reply.started": "2023-09-24T12:14:58.439269Z",
          "shell.execute_reply": "2023-09-24T12:14:58.571506Z"
        },
        "trusted": true,
        "id": "AuVOV4mF2QnO",
        "outputId": "ac8de18c-18bc-4655-9198-0d42f0aa2081"
      },
      "execution_count": null,
      "outputs": [
        {
          "execution_count": 24,
          "output_type": "execute_result",
          "data": {
            "text/plain": "array([0., 0., 0., ..., 1., 0., 0.])"
          },
          "metadata": {}
        }
      ]
    },
    {
      "cell_type": "code",
      "source": [
        "print('Training-set accuracy score: {0:0.4f}'. format(accuracy_score(y_train, y_pred_train)))"
      ],
      "metadata": {
        "execution": {
          "iopub.status.busy": "2023-09-24T12:14:58.573818Z",
          "iopub.execute_input": "2023-09-24T12:14:58.575262Z",
          "iopub.status.idle": "2023-09-24T12:14:58.584842Z",
          "shell.execute_reply.started": "2023-09-24T12:14:58.575221Z",
          "shell.execute_reply": "2023-09-24T12:14:58.583498Z"
        },
        "trusted": true,
        "id": "BAHb6CVQ2QnP",
        "outputId": "4fe60600-2117-4281-e4c3-071144154aac"
      },
      "execution_count": null,
      "outputs": [
        {
          "name": "stdout",
          "text": "Training-set accuracy score: 0.9756\n",
          "output_type": "stream"
        }
      ]
    },
    {
      "cell_type": "code",
      "source": [
        "# print the scores on training and test set\n",
        "\n",
        "print('Training set score: {:.4f}'.format(linear_svc.score(X_train, y_train)))\n",
        "\n",
        "print('Test set score: {:.4f}'.format(linear_svc.score(X_test, y_test)))"
      ],
      "metadata": {
        "execution": {
          "iopub.status.busy": "2023-09-24T12:14:58.586683Z",
          "iopub.execute_input": "2023-09-24T12:14:58.587065Z",
          "iopub.status.idle": "2023-09-24T12:14:58.748258Z",
          "shell.execute_reply.started": "2023-09-24T12:14:58.587032Z",
          "shell.execute_reply": "2023-09-24T12:14:58.747305Z"
        },
        "trusted": true,
        "id": "sg0GUTCK2QnP",
        "outputId": "9d233d53-737b-4bd9-b30e-fb290029adf7"
      },
      "execution_count": null,
      "outputs": [
        {
          "name": "stdout",
          "text": "Training set score: 0.9756\nTest set score: 0.9777\n",
          "output_type": "stream"
        }
      ]
    },
    {
      "cell_type": "code",
      "source": [
        "y_test.value_counts()"
      ],
      "metadata": {
        "execution": {
          "iopub.status.busy": "2023-09-24T12:14:58.751165Z",
          "iopub.execute_input": "2023-09-24T12:14:58.752888Z",
          "iopub.status.idle": "2023-09-24T12:14:58.761220Z",
          "shell.execute_reply.started": "2023-09-24T12:14:58.752854Z",
          "shell.execute_reply": "2023-09-24T12:14:58.760049Z"
        },
        "trusted": true,
        "id": "sPkj19C22QnP",
        "outputId": "865a2d5f-684b-4746-fa4c-df451249663d"
      },
      "execution_count": null,
      "outputs": [
        {
          "execution_count": 27,
          "output_type": "execute_result",
          "data": {
            "text/plain": "target_class\n0.0    2285\n1.0     221\nName: count, dtype: int64"
          },
          "metadata": {}
        }
      ]
    },
    {
      "cell_type": "code",
      "source": [
        "null_accuracy = (3306/(3306+274))\n",
        "\n",
        "print('Null accuracy score: {0:0.4f}'. format(null_accuracy))"
      ],
      "metadata": {
        "execution": {
          "iopub.status.busy": "2023-09-24T12:14:58.769150Z",
          "iopub.execute_input": "2023-09-24T12:14:58.769408Z",
          "iopub.status.idle": "2023-09-24T12:14:58.774915Z",
          "shell.execute_reply.started": "2023-09-24T12:14:58.769386Z",
          "shell.execute_reply": "2023-09-24T12:14:58.773869Z"
        },
        "trusted": true,
        "id": "A1b9f6RW2QnP",
        "outputId": "59f55737-5faa-43c6-cd1e-9c475004f7a9"
      },
      "execution_count": null,
      "outputs": [
        {
          "name": "stdout",
          "text": "Null accuracy score: 0.9235\n",
          "output_type": "stream"
        }
      ]
    },
    {
      "cell_type": "code",
      "source": [
        "# instantiate classifier with polynomial kernel and C=1.0\n",
        "poly_svc=SVC(kernel='poly', C=1.0)\n",
        "\n",
        "\n",
        "# fit classifier to training set\n",
        "poly_svc.fit(X_train,y_train)\n",
        "\n",
        "\n",
        "# make predictions on test set\n",
        "y_pred=poly_svc.predict(X_test)\n",
        "\n",
        "\n",
        "# compute and print accuracy score\n",
        "print('Model accuracy score with polynomial kernel and C=1.0 : {0:0.4f}'. format(accuracy_score(y_test, y_pred)))\n"
      ],
      "metadata": {
        "execution": {
          "iopub.status.busy": "2023-09-24T12:14:58.776620Z",
          "iopub.execute_input": "2023-09-24T12:14:58.777351Z",
          "iopub.status.idle": "2023-09-24T12:14:59.286288Z",
          "shell.execute_reply.started": "2023-09-24T12:14:58.777318Z",
          "shell.execute_reply": "2023-09-24T12:14:59.285250Z"
        },
        "trusted": true,
        "id": "QsvvSAEK2QnP",
        "outputId": "933f7aa3-3d89-4ec0-8ff1-6fa8c1dc6215"
      },
      "execution_count": null,
      "outputs": [
        {
          "name": "stdout",
          "text": "Model accuracy score with polynomial kernel and C=1.0 : 0.9749\n",
          "output_type": "stream"
        }
      ]
    },
    {
      "cell_type": "code",
      "source": [
        "# instantiate classifier with polynomial kernel and C=100.0\n",
        "poly_svc100=SVC(kernel='poly', C=100.0)\n",
        "\n",
        "\n",
        "# fit classifier to training set\n",
        "poly_svc100.fit(X_train, y_train)\n",
        "\n",
        "\n",
        "# make predictions on test set\n",
        "y_pred=poly_svc100.predict(X_test)\n",
        "\n",
        "\n",
        "# compute and print accuracy score\n",
        "print('Model accuracy score with polynomial kernel and C=1.0 : {0:0.4f}'. format(accuracy_score(y_test, y_pred)))"
      ],
      "metadata": {
        "execution": {
          "iopub.status.busy": "2023-09-24T12:14:59.288079Z",
          "iopub.execute_input": "2023-09-24T12:14:59.288493Z",
          "iopub.status.idle": "2023-09-24T12:15:06.577570Z",
          "shell.execute_reply.started": "2023-09-24T12:14:59.288459Z",
          "shell.execute_reply": "2023-09-24T12:15:06.576557Z"
        },
        "trusted": true,
        "id": "tYllwyrI2QnQ",
        "outputId": "4015a1fa-1ebe-4f9c-9251-71858661a3c4"
      },
      "execution_count": null,
      "outputs": [
        {
          "name": "stdout",
          "text": "Model accuracy score with polynomial kernel and C=1.0 : 0.9792\n",
          "output_type": "stream"
        }
      ]
    },
    {
      "cell_type": "code",
      "source": [
        "# instantiate classifier with sigmoid kernel and C=1.0\n",
        "sigmoid_svc=SVC(kernel='sigmoid', C=1.0)\n",
        "\n",
        "\n",
        "# fit classifier to training set\n",
        "sigmoid_svc.fit(X_train,y_train)\n",
        "\n",
        "\n",
        "# make predictions on test set\n",
        "y_pred=sigmoid_svc.predict(X_test)\n",
        "\n",
        "\n",
        "# compute and print accuracy score\n",
        "print('Model accuracy score with sigmoid kernel and C=1.0 : {0:0.4f}'. format(accuracy_score(y_test, y_pred)))\n"
      ],
      "metadata": {
        "execution": {
          "iopub.status.busy": "2023-09-24T12:15:06.579017Z",
          "iopub.execute_input": "2023-09-24T12:15:06.579616Z",
          "iopub.status.idle": "2023-09-24T12:15:07.536033Z",
          "shell.execute_reply.started": "2023-09-24T12:15:06.579579Z",
          "shell.execute_reply": "2023-09-24T12:15:07.534968Z"
        },
        "trusted": true,
        "id": "FmV2Y5742QnQ",
        "outputId": "813b16dd-f762-4351-819d-1ee97ea79175"
      },
      "execution_count": null,
      "outputs": [
        {
          "name": "stdout",
          "text": "Model accuracy score with sigmoid kernel and C=1.0 : 0.8767\n",
          "output_type": "stream"
        }
      ]
    },
    {
      "cell_type": "code",
      "source": [
        "# instantiate classifier with sigmoid kernel and C=100.0\n",
        "sigmoid_svc100=SVC(kernel='sigmoid', C=100.0)\n",
        "\n",
        "\n",
        "# fit classifier to training set\n",
        "sigmoid_svc100.fit(X_train,y_train)\n",
        "\n",
        "\n",
        "# make predictions on test set\n",
        "y_pred=sigmoid_svc100.predict(X_test)\n",
        "\n",
        "\n",
        "# compute and print accuracy score\n",
        "print('Model accuracy score with sigmoid kernel and C=100.0 : {0:0.4f}'. format(accuracy_score(y_test, y_pred)))\n"
      ],
      "metadata": {
        "execution": {
          "iopub.status.busy": "2023-09-24T12:15:07.537519Z",
          "iopub.execute_input": "2023-09-24T12:15:07.537904Z",
          "iopub.status.idle": "2023-09-24T12:15:08.488694Z",
          "shell.execute_reply.started": "2023-09-24T12:15:07.537870Z",
          "shell.execute_reply": "2023-09-24T12:15:08.487575Z"
        },
        "trusted": true,
        "id": "_o9Z1ft02QnQ",
        "outputId": "9a90fff3-fce2-4c10-c203-1f03125a5cb8"
      },
      "execution_count": null,
      "outputs": [
        {
          "name": "stdout",
          "text": "Model accuracy score with sigmoid kernel and C=100.0 : 0.8767\n",
          "output_type": "stream"
        }
      ]
    },
    {
      "cell_type": "code",
      "source": [
        "# Print the Confusion Matrix and slice it into four pieces\n",
        "\n",
        "from sklearn.metrics import confusion_matrix\n",
        "\n",
        "cm = confusion_matrix(y_test, y_pred_test)\n",
        "\n",
        "print('Confusion matrix\\n\\n', cm)\n",
        "\n",
        "print('\\nTrue Positives(TP) = ', cm[0,0])\n",
        "\n",
        "print('\\nTrue Negatives(TN) = ', cm[1,1])\n",
        "\n",
        "print('\\nFalse Positives(FP) = ', cm[0,1])\n",
        "\n",
        "print('\\nFalse Negatives(FN) = ', cm[1,0])"
      ],
      "metadata": {
        "execution": {
          "iopub.status.busy": "2023-09-24T12:15:08.490236Z",
          "iopub.execute_input": "2023-09-24T12:15:08.491826Z",
          "iopub.status.idle": "2023-09-24T12:15:08.506463Z",
          "shell.execute_reply.started": "2023-09-24T12:15:08.491777Z",
          "shell.execute_reply": "2023-09-24T12:15:08.505023Z"
        },
        "trusted": true,
        "id": "7Vbji6_v2QnR",
        "outputId": "2e679555-7f0b-4638-de98-1cf74437f9e7"
      },
      "execution_count": null,
      "outputs": [
        {
          "name": "stdout",
          "text": "Confusion matrix\n\n [[2276    9]\n [  47  174]]\n\nTrue Positives(TP) =  2276\n\nTrue Negatives(TN) =  174\n\nFalse Positives(FP) =  9\n\nFalse Negatives(FN) =  47\n",
          "output_type": "stream"
        }
      ]
    },
    {
      "cell_type": "code",
      "source": [
        "# visualize confusion matrix with seaborn heatmap\n",
        "\n",
        "cm_matrix = pd.DataFrame(data=cm, columns=['Actual Positive:1', 'Actual Negative:0'],\n",
        "                                 index=['Predict Positive:1', 'Predict Negative:0'])\n",
        "\n",
        "sns.heatmap(cm_matrix, annot=True, fmt='d', cmap='YlGnBu')"
      ],
      "metadata": {
        "execution": {
          "iopub.status.busy": "2023-09-24T12:15:08.508325Z",
          "iopub.execute_input": "2023-09-24T12:15:08.509436Z",
          "iopub.status.idle": "2023-09-24T12:15:08.796241Z",
          "shell.execute_reply.started": "2023-09-24T12:15:08.509400Z",
          "shell.execute_reply": "2023-09-24T12:15:08.795315Z"
        },
        "trusted": true,
        "id": "Nqd_BAkq2QnR",
        "outputId": "e10dd8ec-0f7e-4e06-c811-17b2947a4aac"
      },
      "execution_count": null,
      "outputs": [
        {
          "execution_count": 34,
          "output_type": "execute_result",
          "data": {
            "text/plain": "<Axes: >"
          },
          "metadata": {}
        },
        {
          "output_type": "display_data",
          "data": {
            "text/plain": "<Figure size 640x480 with 2 Axes>",
            "image/png": "[encoded data removed]"
          },
          "metadata": {}
        }
      ]
    },
    {
      "cell_type": "code",
      "source": [
        "from sklearn.metrics import classification_report\n",
        "\n",
        "print(classification_report(y_test, y_pred_test))"
      ],
      "metadata": {
        "execution": {
          "iopub.status.busy": "2023-09-24T12:15:08.797353Z",
          "iopub.execute_input": "2023-09-24T12:15:08.797910Z",
          "iopub.status.idle": "2023-09-24T12:15:08.818267Z",
          "shell.execute_reply.started": "2023-09-24T12:15:08.797884Z",
          "shell.execute_reply": "2023-09-24T12:15:08.817110Z"
        },
        "trusted": true,
        "id": "LbB9THSD2QnR",
        "outputId": "29e64c11-9625-424d-c10a-e1bafcc43f3e"
      },
      "execution_count": null,
      "outputs": [
        {
          "name": "stdout",
          "text": "              precision    recall  f1-score   support\n\n         0.0       0.98      1.00      0.99      2285\n         1.0       0.95      0.79      0.86       221\n\n    accuracy                           0.98      2506\n   macro avg       0.97      0.89      0.92      2506\nweighted avg       0.98      0.98      0.98      2506\n\n",
          "output_type": "stream"
        }
      ]
    },
    {
      "cell_type": "code",
      "source": [
        "TP = cm[0,0]\n",
        "TN = cm[1,1]\n",
        "FP = cm[0,1]\n",
        "FN = cm[1,0]"
      ],
      "metadata": {
        "execution": {
          "iopub.status.busy": "2023-09-24T12:15:08.819928Z",
          "iopub.execute_input": "2023-09-24T12:15:08.820921Z",
          "iopub.status.idle": "2023-09-24T12:15:08.826114Z",
          "shell.execute_reply.started": "2023-09-24T12:15:08.820887Z",
          "shell.execute_reply": "2023-09-24T12:15:08.825074Z"
        },
        "trusted": true,
        "id": "QOuslukL2QnR"
      },
      "execution_count": null,
      "outputs": []
    },
    {
      "cell_type": "code",
      "source": [
        "# print classification accuracy\n",
        "\n",
        "classification_accuracy = (TP + TN) / float(TP + TN + FP + FN)\n",
        "\n",
        "print('Classification accuracy : {0:0.4f}'.format(classification_accuracy))"
      ],
      "metadata": {
        "execution": {
          "iopub.status.busy": "2023-09-24T12:15:08.827420Z",
          "iopub.execute_input": "2023-09-24T12:15:08.828453Z",
          "iopub.status.idle": "2023-09-24T12:15:08.837420Z",
          "shell.execute_reply.started": "2023-09-24T12:15:08.828419Z",
          "shell.execute_reply": "2023-09-24T12:15:08.836419Z"
        },
        "trusted": true,
        "id": "slq_FFS-2QnR",
        "outputId": "5fdef028-1191-4d7c-b418-fbdcbd524375"
      },
      "execution_count": null,
      "outputs": [
        {
          "name": "stdout",
          "text": "Classification accuracy : 0.9777\n",
          "output_type": "stream"
        }
      ]
    },
    {
      "cell_type": "code",
      "source": [
        "\n",
        "classification_error = (FP + FN) / float(TP + TN + FP + FN)\n",
        "\n",
        "print('Classification error : {0:0.4f}'.format(classification_error))"
      ],
      "metadata": {
        "execution": {
          "iopub.status.busy": "2023-09-24T12:15:08.838931Z",
          "iopub.execute_input": "2023-09-24T12:15:08.839587Z",
          "iopub.status.idle": "2023-09-24T12:15:08.849307Z",
          "shell.execute_reply.started": "2023-09-24T12:15:08.839537Z",
          "shell.execute_reply": "2023-09-24T12:15:08.848230Z"
        },
        "trusted": true,
        "id": "cyyziMUm2QnS",
        "outputId": "9e0643a2-7bdb-4689-91cf-61a904ccf522"
      },
      "execution_count": null,
      "outputs": [
        {
          "name": "stdout",
          "text": "Classification error : 0.0223\n",
          "output_type": "stream"
        }
      ]
    },
    {
      "cell_type": "code",
      "source": [
        "# print precision score\n",
        "\n",
        "precision = TP / float(TP + FP)\n",
        "\n",
        "\n",
        "print('Precision : {0:0.4f}'.format(precision))\n",
        "recall = TP / float(TP + FN)\n",
        "\n",
        "print('Recall or Sensitivity : {0:0.4f}'.format(recall))\n",
        "\n",
        "true_positive_rate = TP / float(TP + FN)\n",
        "print('True Positive Rate : {0:0.4f}'.format(true_positive_rate))\n",
        "\n",
        "false_positive_rate = FP / float(FP + TN)\n",
        "print('False Positive Rate : {0:0.4f}'.format(false_positive_rate))\n",
        "\n",
        "specificity = TN / (TN + FP)\n",
        "print('Specificity : {0:0.4f}'.format(specificity))\n"
      ],
      "metadata": {
        "execution": {
          "iopub.status.busy": "2023-09-24T12:15:08.850784Z",
          "iopub.execute_input": "2023-09-24T12:15:08.851230Z",
          "iopub.status.idle": "2023-09-24T12:15:08.861144Z",
          "shell.execute_reply.started": "2023-09-24T12:15:08.851195Z",
          "shell.execute_reply": "2023-09-24T12:15:08.859998Z"
        },
        "trusted": true,
        "id": "t-hfwPRB2QnW",
        "outputId": "b344af92-41ee-4bb9-a84f-f4c3681809e7"
      },
      "execution_count": null,
      "outputs": [
        {
          "name": "stdout",
          "text": "Precision : 0.9961\nRecall or Sensitivity : 0.9798\nTrue Positive Rate : 0.9798\nFalse Positive Rate : 0.0492\nSpecificity : 0.9508\n",
          "output_type": "stream"
        }
      ]
    },
    {
      "cell_type": "code",
      "source": [
        "# plot ROC Curve\n",
        "\n",
        "from sklearn.metrics import roc_curve\n",
        "\n",
        "fpr, tpr, thresholds = roc_curve(y_test, y_pred_test)\n",
        "\n",
        "plt.figure(figsize=(6,4))\n",
        "\n",
        "plt.plot(fpr, tpr, linewidth=2)\n",
        "\n",
        "plt.plot([0,1], [0,1], 'k--' )\n",
        "\n",
        "plt.rcParams['font.size'] = 12\n",
        "\n",
        "plt.title('ROC curve for Predicting a Pulsar Star classifier')\n",
        "\n",
        "plt.xlabel('False Positive Rate (1 - Specificity)')\n",
        "\n",
        "plt.ylabel('True Positive Rate (Sensitivity)')\n",
        "\n",
        "plt.show()"
      ],
      "metadata": {
        "execution": {
          "iopub.status.busy": "2023-09-24T12:15:08.862909Z",
          "iopub.execute_input": "2023-09-24T12:15:08.863332Z",
          "iopub.status.idle": "2023-09-24T12:15:09.172498Z",
          "shell.execute_reply.started": "2023-09-24T12:15:08.863299Z",
          "shell.execute_reply": "2023-09-24T12:15:09.171479Z"
        },
        "trusted": true,
        "id": "ySuuC_Og2QnX",
        "outputId": "34ddc361-b241-4492-bd46-89b97bdf534a"
      },
      "execution_count": null,
      "outputs": [
        {
          "output_type": "display_data",
          "data": {
            "text/plain": "<Figure size 600x400 with 1 Axes>",
            "image/png": "[encoded data removed]"
          },
          "metadata": {}
        }
      ]
    },
    {
      "cell_type": "code",
      "source": [
        "# compute ROC AUC\n",
        "\n",
        "from sklearn.metrics import roc_auc_score\n",
        "\n",
        "ROC_AUC = roc_auc_score(y_test, y_pred_test)\n",
        "\n",
        "print('ROC AUC : {:.4f}'.format(ROC_AUC))"
      ],
      "metadata": {
        "execution": {
          "iopub.status.busy": "2023-09-24T12:15:09.174011Z",
          "iopub.execute_input": "2023-09-24T12:15:09.175145Z",
          "iopub.status.idle": "2023-09-24T12:15:09.189164Z",
          "shell.execute_reply.started": "2023-09-24T12:15:09.175106Z",
          "shell.execute_reply": "2023-09-24T12:15:09.187713Z"
        },
        "trusted": true,
        "id": "7ZSb-zD62QnX",
        "outputId": "a47a2376-0f44-4d88-c60f-4aa3ef9dfa5e"
      },
      "execution_count": null,
      "outputs": [
        {
          "name": "stdout",
          "text": "ROC AUC : 0.8917\n",
          "output_type": "stream"
        }
      ]
    },
    {
      "cell_type": "code",
      "source": [
        "# calculate cross-validated ROC AUC\n",
        "\n",
        "from sklearn.model_selection import cross_val_score\n",
        "\n",
        "Cross_validated_ROC_AUC = cross_val_score(linear_svc, X_train, y_train, cv=10, scoring='roc_auc').mean()\n",
        "\n",
        "print('Cross validated ROC AUC : {:.4f}'.format(Cross_validated_ROC_AUC))"
      ],
      "metadata": {
        "execution": {
          "iopub.status.busy": "2023-09-24T12:15:09.191551Z",
          "iopub.execute_input": "2023-09-24T12:15:09.192690Z",
          "iopub.status.idle": "2023-09-24T12:15:11.461758Z",
          "shell.execute_reply.started": "2023-09-24T12:15:09.192652Z",
          "shell.execute_reply": "2023-09-24T12:15:11.460756Z"
        },
        "trusted": true,
        "id": "M57gr2Bf2QnX",
        "outputId": "8a72a208-eccf-45f2-f140-561509a7c241"
      },
      "execution_count": null,
      "outputs": [
        {
          "name": "stdout",
          "text": "Cross validated ROC AUC : 0.9686\n",
          "output_type": "stream"
        }
      ]
    },
    {
      "cell_type": "code",
      "source": [
        "from sklearn.model_selection import KFold\n",
        "\n",
        "\n",
        "kfold=KFold(n_splits=5, shuffle=True, random_state=0)\n",
        "\n",
        "\n",
        "linear_svc=SVC(kernel='linear')\n",
        "\n",
        "\n",
        "linear_scores = cross_val_score(linear_svc, X, y, cv=kfold)"
      ],
      "metadata": {
        "execution": {
          "iopub.status.busy": "2023-09-24T12:15:11.463228Z",
          "iopub.execute_input": "2023-09-24T12:15:11.463611Z",
          "iopub.status.idle": "2023-09-24T12:17:09.073350Z",
          "shell.execute_reply.started": "2023-09-24T12:15:11.463577Z",
          "shell.execute_reply": "2023-09-24T12:17:09.072295Z"
        },
        "trusted": true,
        "id": "RHMXmt-G2QnX"
      },
      "execution_count": null,
      "outputs": []
    },
    {
      "cell_type": "code",
      "source": [
        "\n",
        "print('Stratified cross-validation scores with linear kernel:\\n\\n{}'.format(linear_scores))\n",
        "print('Average stratified cross-validation score with linear kernel:{:.4f}'.format(linear_scores.mean()))"
      ],
      "metadata": {
        "execution": {
          "iopub.status.busy": "2023-09-24T12:17:09.074665Z",
          "iopub.execute_input": "2023-09-24T12:17:09.075101Z",
          "iopub.status.idle": "2023-09-24T12:17:09.082338Z",
          "shell.execute_reply.started": "2023-09-24T12:17:09.075068Z",
          "shell.execute_reply": "2023-09-24T12:17:09.081371Z"
        },
        "trusted": true,
        "id": "aSu1En3G2QnY",
        "outputId": "1122b711-79c2-40c9-f05b-06335d3f3d0c"
      },
      "execution_count": null,
      "outputs": [
        {
          "name": "stdout",
          "text": "Stratified cross-validation scores with linear kernel:\n\n[0.97765363 0.97805267 0.97605746 0.9748503  0.97644711]\nAverage stratified cross-validation score with linear kernel:0.9766\n",
          "output_type": "stream"
        }
      ]
    },
    {
      "cell_type": "code",
      "source": [
        "rbf_svc=SVC(kernel='rbf')\n",
        "\n",
        "\n",
        "rbf_scores = cross_val_score(rbf_svc, X, y, cv=kfold)"
      ],
      "metadata": {
        "execution": {
          "iopub.status.busy": "2023-09-24T12:17:09.083906Z",
          "iopub.execute_input": "2023-09-24T12:17:09.084576Z",
          "iopub.status.idle": "2023-09-24T12:17:11.115893Z",
          "shell.execute_reply.started": "2023-09-24T12:17:09.084529Z",
          "shell.execute_reply": "2023-09-24T12:17:11.114811Z"
        },
        "trusted": true,
        "id": "PA5f_FXU2QnY"
      },
      "execution_count": null,
      "outputs": []
    },
    {
      "cell_type": "code",
      "source": [
        "print('Stratified Cross-validation scores with rbf kernel:\\n{}'.format(rbf_scores))\n",
        "print('Average stratified cross-validation score with rbf kernel:{:.4f}'.format(rbf_scores.mean()))"
      ],
      "metadata": {
        "execution": {
          "iopub.status.busy": "2023-09-24T12:17:11.117577Z",
          "iopub.execute_input": "2023-09-24T12:17:11.117987Z",
          "iopub.status.idle": "2023-09-24T12:17:11.124290Z",
          "shell.execute_reply.started": "2023-09-24T12:17:11.117948Z",
          "shell.execute_reply": "2023-09-24T12:17:11.123143Z"
        },
        "trusted": true,
        "id": "MH9I-PWq2QnY",
        "outputId": "eab3a430-7d56-445f-a55d-646c584a679a"
      },
      "execution_count": null,
      "outputs": [
        {
          "name": "stdout",
          "text": "Stratified Cross-validation scores with rbf kernel:\n[0.97326417 0.97286512 0.9688747  0.97205589 0.96886228]\nAverage stratified cross-validation score with rbf kernel:0.9712\n",
          "output_type": "stream"
        }
      ]
    },
    {
      "cell_type": "code",
      "source": [
        "# import GridSearchCV\n",
        "from sklearn.model_selection import GridSearchCV\n",
        "\n",
        "\n",
        "# import SVC classifier\n",
        "from sklearn.svm import SVC\n",
        "\n",
        "\n",
        "# instantiate classifier with default hyperparameters with kernel=rbf, C=1.0 and gamma=auto\n",
        "svc=SVC()\n",
        "\n",
        "\n",
        "\n",
        "# declare parameters for hyperparameter tuning\n",
        "parameters = [ {'C':[1, 10, 100, 1000], 'kernel':['linear']},\n",
        "               {'C':[1, 10, 100, 1000], 'kernel':['rbf'], 'gamma':[0.1, 0.2, 0.3, 0.4, 0.5, 0.6, 0.7, 0.8, 0.9]},\n",
        "               {'C':[1, 10, 100, 1000], 'kernel':['poly'], 'degree': [2,3,4] ,'gamma':[0.01,0.02,0.03,0.04,0.05]}\n",
        "              ]\n",
        "\n",
        "\n",
        "\n",
        "\n",
        "grid_search = GridSearchCV(estimator = svc,\n",
        "                           param_grid = parameters,\n",
        "                           scoring = 'accuracy',\n",
        "                           cv = 5,\n",
        "                           verbose=0)\n",
        "\n",
        "\n",
        "grid_search.fit(X_train, y_train)\n"
      ],
      "metadata": {
        "execution": {
          "iopub.status.busy": "2023-09-24T12:17:11.125809Z",
          "iopub.execute_input": "2023-09-24T12:17:11.126521Z",
          "iopub.status.idle": "2023-09-24T12:24:40.077470Z",
          "shell.execute_reply.started": "2023-09-24T12:17:11.126490Z",
          "shell.execute_reply": "2023-09-24T12:24:40.076471Z"
        },
        "trusted": true,
        "id": "JwR-qtz82QnY",
        "outputId": "7d9e0665-091c-4a03-d488-6a05d9132bff"
      },
      "execution_count": null,
      "outputs": [
        {
          "execution_count": 47,
          "output_type": "execute_result",
          "data": {
            "text/plain": "GridSearchCV(cv=5, estimator=SVC(),\n             param_grid=[{'C': [1, 10, 100, 1000], 'kernel': ['linear']},\n                         {'C': [1, 10, 100, 1000],\n                          'gamma': [0.1, 0.2, 0.3, 0.4, 0.5, 0.6, 0.7, 0.8,\n                                    0.9],\n                          'kernel': ['rbf']},\n                         {'C': [1, 10, 100, 1000], 'degree': [2, 3, 4],\n                          'gamma': [0.01, 0.02, 0.03, 0.04, 0.05],\n                          'kernel': ['poly']}],\n             scoring='accuracy')",
            "text/html": "<style>#sk-container-id-1 {color: black;background-color: white;}#sk-container-id-1 pre{padding: 0;}#sk-container-id-1 div.sk-toggleable {background-color: white;}#sk-container-id-1 label.sk-toggleable__label {cursor: pointer;display: block;width: 100%;margin-bottom: 0;padding: 0.3em;box-sizing: border-box;text-align: center;}#sk-container-id-1 label.sk-toggleable__label-arrow:before {content: \"▸\";float: left;margin-right: 0.25em;color: #696969;}#sk-container-id-1 label.sk-toggleable__label-arrow:hover:before {color: black;}#sk-container-id-1 div.sk-estimator:hover label.sk-toggleable__label-arrow:before {color: black;}#sk-container-id-1 div.sk-toggleable__content {max-height: 0;max-width: 0;overflow: hidden;text-align: left;background-color: #f0f8ff;}#sk-container-id-1 div.sk-toggleable__content pre {margin: 0.2em;color: black;border-radius: 0.25em;background-color: #f0f8ff;}#sk-container-id-1 input.sk-toggleable__control:checked~div.sk-toggleable__content {max-height: 200px;max-width: 100%;overflow: auto;}#sk-container-id-1 input.sk-toggleable__control:checked~label.sk-toggleable__label-arrow:before {content: \"▾\";}#sk-container-id-1 div.sk-estimator input.sk-toggleable__control:checked~label.sk-toggleable__label {background-color: #d4ebff;}#sk-container-id-1 div.sk-label input.sk-toggleable__control:checked~label.sk-toggleable__label {background-color: #d4ebff;}#sk-container-id-1 input.sk-hidden--visually {border: 0;clip: rect(1px 1px 1px 1px);clip: rect(1px, 1px, 1px, 1px);height: 1px;margin: -1px;overflow: hidden;padding: 0;position: absolute;width: 1px;}#sk-container-id-1 div.sk-estimator {font-family: monospace;background-color: #f0f8ff;border: 1px dotted black;border-radius: 0.25em;box-sizing: border-box;margin-bottom: 0.5em;}#sk-container-id-1 div.sk-estimator:hover {background-color: #d4ebff;}#sk-container-id-1 div.sk-parallel-item::after {content: \"\";width: 100%;border-bottom: 1px solid gray;flex-grow: 1;}#sk-container-id-1 div.sk-label:hover label.sk-toggleable__label {background-color: #d4ebff;}#sk-container-id-1 div.sk-serial::before {content: \"\";position: absolute;border-left: 1px solid gray;box-sizing: border-box;top: 0;bottom: 0;left: 50%;z-index: 0;}#sk-container-id-1 div.sk-serial {display: flex;flex-direction: column;align-items: center;background-color: white;padding-right: 0.2em;padding-left: 0.2em;position: relative;}#sk-container-id-1 div.sk-item {position: relative;z-index: 1;}#sk-container-id-1 div.sk-parallel {display: flex;align-items: stretch;justify-content: center;background-color: white;position: relative;}#sk-container-id-1 div.sk-item::before, #sk-container-id-1 div.sk-parallel-item::before {content: \"\";position: absolute;border-left: 1px solid gray;box-sizing: border-box;top: 0;bottom: 0;left: 50%;z-index: -1;}#sk-container-id-1 div.sk-parallel-item {display: flex;flex-direction: column;z-index: 1;position: relative;background-color: white;}#sk-container-id-1 div.sk-parallel-item:first-child::after {align-self: flex-end;width: 50%;}#sk-container-id-1 div.sk-parallel-item:last-child::after {align-self: flex-start;width: 50%;}#sk-container-id-1 div.sk-parallel-item:only-child::after {width: 0;}#sk-container-id-1 div.sk-dashed-wrapped {border: 1px dashed gray;margin: 0 0.4em 0.5em 0.4em;box-sizing: border-box;padding-bottom: 0.4em;background-color: white;}#sk-container-id-1 div.sk-label label {font-family: monospace;font-weight: bold;display: inline-block;line-height: 1.2em;}#sk-container-id-1 div.sk-label-container {text-align: center;}#sk-container-id-1 div.sk-container {/* jupyter's `normalize.less` sets `[hidden] { display: none; }` but bootstrap.min.css set `[hidden] { display: none !important; }` so we also need the `!important` here to be able to override the default hidden behavior on the sphinx rendered scikit-learn.org. See: https://github.com/scikit-learn/scikit-learn/issues/21755 */display: inline-block !important;position: relative;}#sk-container-id-1 div.sk-text-repr-fallback {display: none;}</style><div id=\"sk-container-id-1\" class=\"sk-top-container\"><div class=\"sk-text-repr-fallback\"><pre>GridSearchCV(cv=5, estimator=SVC(),\n             param_grid=[{&#x27;C&#x27;: [1, 10, 100, 1000], &#x27;kernel&#x27;: [&#x27;linear&#x27;]},\n                         {&#x27;C&#x27;: [1, 10, 100, 1000],\n                          &#x27;gamma&#x27;: [0.1, 0.2, 0.3, 0.4, 0.5, 0.6, 0.7, 0.8,\n                                    0.9],\n                          &#x27;kernel&#x27;: [&#x27;rbf&#x27;]},\n                         {&#x27;C&#x27;: [1, 10, 100, 1000], &#x27;degree&#x27;: [2, 3, 4],\n                          &#x27;gamma&#x27;: [0.01, 0.02, 0.03, 0.04, 0.05],\n                          &#x27;kernel&#x27;: [&#x27;poly&#x27;]}],\n             scoring=&#x27;accuracy&#x27;)</pre><b>In a Jupyter environment, please rerun this cell to show the HTML representation or trust the notebook. <br />On GitHub, the HTML representation is unable to render, please try loading this page with nbviewer.org.</b></div><div class=\"sk-container\" hidden><div class=\"sk-item sk-dashed-wrapped\"><div class=\"sk-label-container\"><div class=\"sk-label sk-toggleable\"><input class=\"sk-toggleable__control sk-hidden--visually\" id=\"sk-estimator-id-1\" type=\"checkbox\" ><label for=\"sk-estimator-id-1\" class=\"sk-toggleable__label sk-toggleable__label-arrow\">GridSearchCV</label><div class=\"sk-toggleable__content\"><pre>GridSearchCV(cv=5, estimator=SVC(),\n             param_grid=[{&#x27;C&#x27;: [1, 10, 100, 1000], &#x27;kernel&#x27;: [&#x27;linear&#x27;]},\n                         {&#x27;C&#x27;: [1, 10, 100, 1000],\n                          &#x27;gamma&#x27;: [0.1, 0.2, 0.3, 0.4, 0.5, 0.6, 0.7, 0.8,\n                                    0.9],\n                          &#x27;kernel&#x27;: [&#x27;rbf&#x27;]},\n                         {&#x27;C&#x27;: [1, 10, 100, 1000], &#x27;degree&#x27;: [2, 3, 4],\n                          &#x27;gamma&#x27;: [0.01, 0.02, 0.03, 0.04, 0.05],\n                          &#x27;kernel&#x27;: [&#x27;poly&#x27;]}],\n             scoring=&#x27;accuracy&#x27;)</pre></div></div></div><div class=\"sk-parallel\"><div class=\"sk-parallel-item\"><div class=\"sk-item\"><div class=\"sk-label-container\"><div class=\"sk-label sk-toggleable\"><input class=\"sk-toggleable__control sk-hidden--visually\" id=\"sk-estimator-id-2\" type=\"checkbox\" ><label for=\"sk-estimator-id-2\" class=\"sk-toggleable__label sk-toggleable__label-arrow\">estimator: SVC</label><div class=\"sk-toggleable__content\"><pre>SVC()</pre></div></div></div><div class=\"sk-serial\"><div class=\"sk-item\"><div class=\"sk-estimator sk-toggleable\"><input class=\"sk-toggleable__control sk-hidden--visually\" id=\"sk-estimator-id-3\" type=\"checkbox\" ><label for=\"sk-estimator-id-3\" class=\"sk-toggleable__label sk-toggleable__label-arrow\">SVC</label><div class=\"sk-toggleable__content\"><pre>SVC()</pre></div></div></div></div></div></div></div></div></div></div>"
          },
          "metadata": {}
        }
      ]
    },
    {
      "cell_type": "code",
      "source": [
        "# examine the best model\n",
        "\n",
        "\n",
        "# best score achieved during the GridSearchCV\n",
        "print('GridSearch CV best score : {:.4f}\\n\\n'.format(grid_search.best_score_))\n",
        "\n",
        "\n",
        "# print parameters that give the best results\n",
        "print('Parameters that give the best results :','\\n\\n', (grid_search.best_params_))\n",
        "\n",
        "\n",
        "# print estimator that was chosen by the GridSearch\n",
        "print('\\n\\nEstimator that was chosen by the search :','\\n\\n', (grid_search.best_estimator_))"
      ],
      "metadata": {
        "execution": {
          "iopub.status.busy": "2023-09-24T12:24:40.078776Z",
          "iopub.execute_input": "2023-09-24T12:24:40.079776Z",
          "iopub.status.idle": "2023-09-24T12:24:40.088748Z",
          "shell.execute_reply.started": "2023-09-24T12:24:40.079742Z",
          "shell.execute_reply": "2023-09-24T12:24:40.087476Z"
        },
        "trusted": true,
        "id": "Csi7yL_U2QnZ",
        "outputId": "75df3230-20a2-4f47-f6e5-ef3b6e3e2416"
      },
      "execution_count": null,
      "outputs": [
        {
          "name": "stdout",
          "text": "GridSearch CV best score : 0.9786\n\n\nParameters that give the best results : \n\n {'C': 10, 'gamma': 0.2, 'kernel': 'rbf'}\n\n\nEstimator that was chosen by the search : \n\n SVC(C=10, gamma=0.2)\n",
          "output_type": "stream"
        }
      ]
    },
    {
      "cell_type": "code",
      "source": [
        "# calculate GridSearch CV score on test set\n",
        "\n",
        "print('GridSearch CV score on test set: {0:0.4f}'.format(grid_search.score(X_test, y_test)))"
      ],
      "metadata": {
        "execution": {
          "iopub.status.busy": "2023-09-24T12:24:40.090512Z",
          "iopub.execute_input": "2023-09-24T12:24:40.091309Z",
          "iopub.status.idle": "2023-09-24T12:24:40.177825Z",
          "shell.execute_reply.started": "2023-09-24T12:24:40.091271Z",
          "shell.execute_reply": "2023-09-24T12:24:40.176887Z"
        },
        "trusted": true,
        "id": "g2_lyp1D2QnZ",
        "outputId": "c41a0b9d-91d1-4cb1-ea38-47f1ae537761"
      },
      "execution_count": null,
      "outputs": [
        {
          "name": "stdout",
          "text": "GridSearch CV score on test set: 0.9804\n",
          "output_type": "stream"
        }
      ]
    }
  ]
}